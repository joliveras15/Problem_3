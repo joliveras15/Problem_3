{
  "cells": [
    {
      "cell_type": "raw",
      "metadata": {},
      "source": [
        "---\n",
        "title: Wrangling Covid-19 data\n",
        "execute:\n",
        "  eval: false\n",
        "---"
      ],
      "id": "b022f0f3"
    },
    {
      "cell_type": "markdown",
      "metadata": {},
      "source": [
        "We plan to explore the relationship between COVID-19 death rates and vaccination rates across US states by visually examining their correlation. This analysis will involve gathering COVID-19 related data from the CDC's API and then extensively processing it to merge the various datasets. Since the population sizes of states vary significantly, we will focus on comparing rates rather than absolute numbers. To facilitate this, we will also source population data from the US Census to accurately calculate these rates.\n",
        "\n",
        "1.  Get an API key from the US Census at <https://api.census.gov/data/key_signup.html>. Save it an object called `census_key`.\n"
      ],
      "id": "a9941b17"
    },
    {
      "cell_type": "code",
      "metadata": {},
      "source": [
        "census_key <- \"91e9a6486ee655ba5b59cf4a2aac4169d13ae7a5\""
      ],
      "id": "dee2c791",
      "execution_count": null,
      "outputs": []
    },
    {
      "cell_type": "markdown",
      "metadata": {},
      "source": [
        "2.  Use an internet search to find information about the US Census APIs to obtain vintage population estimates. Define a variable called `api` with the URL.\n"
      ],
      "id": "3a847c63"
    },
    {
      "cell_type": "code",
      "metadata": {},
      "source": [
        "api <- \"https://api.census.gov/data/2021/pep/population\""
      ],
      "id": "fb5a3e30",
      "execution_count": null,
      "outputs": []
    },
    {
      "cell_type": "markdown",
      "metadata": {},
      "source": [
        "3.  Read the documentation for the API and use the **httr2** package to prepare a request that gives us 2020 and 2021 population estimates for each state. Save the request in a variable called `request`, without performing it. Compare the request to the examples in the documentation to see if you are on the right track.\n"
      ],
      "id": "70abd12c"
    },
    {
      "cell_type": "code",
      "metadata": {},
      "source": [
        "library(httr2)\n",
        "request <- request(api) |> \n",
        "    req_url_query(get = I(\"POP_2020,POP_2021,NAME\"), \n",
        "                'for' = I(\"state:*\"), \n",
        "                key = census_key)\n",
        "request"
      ],
      "id": "6da780bf",
      "execution_count": null,
      "outputs": []
    },
    {
      "cell_type": "markdown",
      "metadata": {},
      "source": [
        "4.  Now perform the request and examine the data that is returned. Save the result to `request` (overwrite it).\n"
      ],
      "id": "c3cd0656"
    },
    {
      "cell_type": "code",
      "metadata": {},
      "source": [
        "request <- request |> req_perform()\n",
        "request"
      ],
      "id": "d82f5bdf",
      "execution_count": null,
      "outputs": []
    },
    {
      "cell_type": "markdown",
      "metadata": {},
      "source": [
        "5.  We see the request returned data in JSON format. We can see the content with the function `req_body_json`, but we want a data frame. Use the **jsonlite** package to convert the raw JSON data into a data frame. Save it in `population`.\n"
      ],
      "id": "b0e65db3"
    },
    {
      "cell_type": "code",
      "metadata": {},
      "source": [
        "library(jsonlite)\n",
        "population <- request |> resp_body_string() |>\n",
        "    fromJSON(flatten = TRUE)\n",
        "population"
      ],
      "id": "f13ba3a4",
      "execution_count": null,
      "outputs": []
    },
    {
      "cell_type": "markdown",
      "metadata": {},
      "source": [
        "6.  Examine the table. Notice 1) it is not tidy, 2) the column types are not what we want, and 3) the first row is a header. Convert `population` to a tidy dataset. Remove the state ID column and change the name of the column with state names to `state_name`. Add a column with state abbreviations called `state`. Make sure you assign the abbreviations for DC and PR correctly. Hint: Start by using the **janitor** package to make the first row the header.\n"
      ],
      "id": "4b59b399"
    },
    {
      "cell_type": "code",
      "metadata": {},
      "source": [
        "library(tidyverse)\n",
        "library(janitor)\n",
        "population <- population |> row_to_names(1) |>\n",
        "    as_tibble() |>\n",
        "    select(-state) |>\n",
        "    rename(state_name = NAME) |>\n",
        "    pivot_longer(-state_name, names_to =\"year\", values_to = \"population\") |>\n",
        "    mutate(year = str_remove(year, \"POP_\")) |>\n",
        "    mutate(across(-state_name, as.numeric)) |>\n",
        "    mutate(state = state.abb[match(state_name, state.name)]) |>\n",
        "    mutate(state = case_when(\n",
        "        state_name == \"District of Columbia\" ~ \"DC\",\n",
        "        state_name == \"Puerto Rico\" ~ \"PR\",\n",
        "        .default = state))\n",
        "population"
      ],
      "id": "154062c5",
      "execution_count": null,
      "outputs": []
    },
    {
      "cell_type": "markdown",
      "metadata": {},
      "source": [
        "7.  As a check, make a barplot of states' 2021 populations\n"
      ],
      "id": "15cb3ac9"
    },
    {
      "cell_type": "code",
      "metadata": {},
      "source": [
        "population %>%\n",
        "  filter(year == \"2021\") %>%\n",
        "  ggplot(aes(x = state, y = population/10^6)) +\n",
        "  geom_bar(stat = \"identity\", fill = \"skyblue\", color = \"black\") +\n",
        "  labs(title = \"States 2021 Populations\", x = \"States\", y = \"Populations in 2021\") +\n",
        "  theme(axis.text.x = element_text(angle = 90, hjust = 1, size = 8))"
      ],
      "id": "e28b3c11",
      "execution_count": null,
      "outputs": []
    },
    {
      "cell_type": "markdown",
      "metadata": {},
      "source": [
        "8.  To practice `pivot_wider` make a bar plot of percent change in population by state.\n"
      ],
      "id": "fd88d7ba"
    },
    {
      "cell_type": "code",
      "metadata": {},
      "source": [
        "library(tidyverse)\n",
        "library(tidyr)\n",
        "library(ggplot2)\n",
        "# Calculate percent change\n",
        "pop_change <- population |>\n",
        "  group_by(state_name) |>\n",
        "  mutate(percent_change = ((population - lag(population)) / lag(population)) * 100)\n",
        "\n",
        "# Percent change\n",
        "pop_wide <- pop_change %>%\n",
        "  pivot_wider(names_from = year, values_from = percent_change)\n",
        "\n",
        "# Create a bar plot of percent change for 2021\n",
        "ggplot(pop_change, aes(x = state_name, y = percent_change, fill = state_name)) +\n",
        "  geom_bar(stat = \"identity\", position = \"dodge\") +\n",
        "  labs(title = \"Percent Change in Population by State (2020-2021)\",\n",
        "       x = \"State\",\n",
        "       y = \"Percent Change\") +\n",
        "  theme(axis.text.x = element_text(angle = 45, hjust = 1))"
      ],
      "id": "cc289f8a",
      "execution_count": null,
      "outputs": []
    },
    {
      "cell_type": "markdown",
      "metadata": {},
      "source": [
        "9.  Add the following region numbers to the data:\n"
      ],
      "id": "2fd67700"
    },
    {
      "cell_type": "code",
      "metadata": {},
      "source": [
        "cdc_regions_list <- list(\n",
        "  \"1\" = c(\"Connecticut\", \"Maine\", \"Massachusetts\", \"New Hampshire\", \"Rhode Island\", \"Vermont\"),\n",
        "  \"2\" = c(\"New Jersey\", \"New York\", \"Puerto Rico\", \"Virgin Islands\"),\n",
        "  \"3\" = c(\"Delaware\", \"District of Columbia\", \"Maryland\", \"Pennsylvania\", \"Virginia\", \"West Virginia\"),\n",
        "  \"4\" = c(\"Alabama\", \"Florida\", \"Georgia\", \"Kentucky\", \"Mississippi\", \"North Carolina\", \"South Carolina\", \"Tennessee\"),\n",
        "  \"5\" = c(\"Illinois\", \"Indiana\", \"Michigan\", \"Minnesota\", \"Ohio\", \"Wisconsin\"),\n",
        "  \"6\" = c(\"Arkansas\", \"Louisiana\", \"New Mexico\", \"Oklahoma\", \"Texas\"),\n",
        "  \"7\" = c(\"Iowa\", \"Kansas\", \"Missouri\", \"Nebraska\"),\n",
        "  \"8\" = c(\"Colorado\", \"Montana\", \"North Dakota\", \"South Dakota\", \"Utah\", \"Wyoming\"),\n",
        "  \"9\" = c(\"Arizona\", \"California\", \"Hawaii\", \"Nevada\", \"American Samoa\", \"Commonwealth of the Northern Mariana Islands\", \"Federated States of Micronesia\", \"Guam\", \"Marshall Islands\", \"Republic of Palau\"),\n",
        "  \"10\" = c(\"Alaska\", \"Idaho\", \"Oregon\", \"Washington\"))\n",
        "\n",
        "cdc_regions <- do.call(rbind, lapply(names(cdc_regions_list), function(region) {\n",
        "  data.frame(region = region, state_name = cdc_regions_list[[region]])\n",
        "})) |>\n",
        "  mutate(region = factor(as.numeric(region)))"
      ],
      "id": "ed477483",
      "execution_count": null,
      "outputs": []
    },
    {
      "cell_type": "code",
      "metadata": {},
      "source": [
        "population <- population %>%\n",
        "  left_join(cdc_regions, by = \"state_name\")\n",
        "  population"
      ],
      "id": "faf95531",
      "execution_count": null,
      "outputs": []
    },
    {
      "cell_type": "markdown",
      "metadata": {},
      "source": [
        "10. Go to <https://data.cdc.gov/> and learn about the CDC API for COVID-19 data. Find an API that provides state level data from SARS-COV2 cases and store it in a data frame.\n"
      ],
      "id": "739d6e35"
    },
    {
      "cell_type": "code",
      "metadata": {},
      "source": [
        "library(jsonlite)\n",
        "api_cdc <- \"https://data.cdc.gov/resource/pwn4-m3yp.json\"\n",
        "cases <- request(api_cdc) |> \n",
        "  req_url_query(\"$limit\" = 1000000000) |>\n",
        "  req_perform() |> resp_body_string() |> \n",
        "  fromJSON(flatten = TRUE)"
      ],
      "id": "0657eee1",
      "execution_count": null,
      "outputs": []
    },
    {
      "cell_type": "markdown",
      "metadata": {},
      "source": [
        "11. Note that we obtained weekly data. Wrangle the table so that keep only states for which you have population data. Keep the following variables: state, epidemiological week and year, and new cases (as numbers). Order by state, then chronologically. Hint: Use `as_date`, `epiweek` and `epiyear` functions in **lubridate** package.\n"
      ],
      "id": "1fd7f782"
    },
    {
      "cell_type": "code",
      "metadata": {},
      "source": [
        "library(lubridate)\n",
        "cases <- cases |> as_tibble()\n",
        "cases <- mutate(cases, date_updated = as.Date(date_updated))\n",
        "\n",
        "cases <- cases |>\n",
        "  mutate(\n",
        "    iso_week = isoweek(date_updated),\n",
        "    iso_year = isoyear(date_updated)\n",
        "  ) |>\n",
        "  rename(epi_week = iso_week, epi_year = iso_year)\n",
        "\n",
        "cases_filtered <- cases |> \n",
        "  mutate(state_name = state.name[match(state, state.abb)]) |>\n",
        "  select(state, epi_week, epi_year, new_cases) |>\n",
        "  arrange(state, cases$date_updated) |>\n",
        "  filter(state != \"NYC\")"
      ],
      "id": "85ec007e",
      "execution_count": null,
      "outputs": []
    },
    {
      "cell_type": "code",
      "metadata": {},
      "source": [
        "cases_filtered"
      ],
      "id": "c10595be",
      "execution_count": null,
      "outputs": []
    },
    {
      "cell_type": "markdown",
      "metadata": {},
      "source": [
        "12. Now repeat the same exercise for hospitalizations. However, before you start, notice the code for extracting the data is the same as in the previous exercise except for the API URL. Write a function that takes an API URL and returns the data in a data frame.\n"
      ],
      "id": "b12e5709"
    },
    {
      "cell_type": "code",
      "metadata": {},
      "source": [
        "hosp_api <- \"https://data.cdc.gov/resource/39z2-9zu6.json\""
      ],
      "id": "cc39ebef",
      "execution_count": null,
      "outputs": []
    },
    {
      "cell_type": "markdown",
      "metadata": {},
      "source": [
        "13. Now use the function to get the raw hospital data. Examine the data once you have it to determine if its daily or weekly.\n"
      ],
      "id": "dfde3ede"
    },
    {
      "cell_type": "code",
      "metadata": {},
      "source": [
        "library(jsonlite)\n",
        "hosp_raw <- request(hosp_api) |> \n",
        "  req_url_query(\"$limit\" = 1000000000) |>\n",
        "  req_perform() |> resp_body_string() |> \n",
        "  fromJSON(flatten = TRUE)\n",
        "\n",
        "hosp_raw <- hosp_raw |> as_tibble()"
      ],
      "id": "e055670e",
      "execution_count": null,
      "outputs": []
    },
    {
      "cell_type": "markdown",
      "metadata": {},
      "source": [
        "14. Collapse the data into weekly data and keep the same columns as in the cases dataset, except keep total weekly hospitalizations instead of cases. Remove weeks with less than 7 days reporting.\n"
      ],
      "id": "88f51b84"
    },
    {
      "cell_type": "code",
      "metadata": {},
      "source": [
        "library(tidyverse)\n",
        "hosp_raw <- hosp_raw |>\n",
        "  mutate(collection_date = as.Date(collection_date),\n",
        "         epi_year = isoyear(collection_date),\n",
        "         epi_week = isoweek(collection_date))\n",
        "\n",
        "#remove weeks without reporting (7 day average)\n",
        "hosp_data <- hosp_raw  |>\n",
        "  filter(total_hospitalized_covid_1 >=1) |>\n",
        "  rename(state = jurisdiction) |>\n",
        "  filter(!grepl(\"Region\", state, ignore.case = TRUE)) |>\n",
        "  filter(!grepl(\"USA\", state, ignore.case = TRUE))\n",
        "\n",
        "#filter\n",
        "hosp_filtered <- hosp_data |>\n",
        "  mutate(state_name = state.name[match(state, state.abb)]) |>\n",
        "  mutate(total_hospitalized_covid_1=as.numeric(total_hospitalized_covid_1), rm.na = TRUE) |>\n",
        "  select(state, epi_week, epi_year, total_hospitalized_covid_1)\n",
        "hosp_filtered"
      ],
      "id": "e6a4150e",
      "execution_count": null,
      "outputs": []
    },
    {
      "cell_type": "markdown",
      "metadata": {},
      "source": [
        "15. Repeat what you did in the previous two exercises for provisional COVID-19 deaths.\n"
      ],
      "id": "2f024456"
    },
    {
      "cell_type": "code",
      "metadata": {},
      "source": [
        "death_api <- \"https://data.cdc.gov/resource/r8kw-7aab.json\"\n",
        "\n",
        "deaths_raw <- request(death_api) |> \n",
        "  req_url_query(\"$limit\" = 1000000000) |>\n",
        "  req_perform() |> resp_body_string() |> \n",
        "  fromJSON(flatten = TRUE)\n",
        "\n",
        "deaths_raw <- deaths_raw |> as_tibble()\n",
        "\n",
        "deaths_raw <- deaths_raw |>\n",
        "  mutate(week_ending_date = as.Date(week_ending_date),\n",
        "         epi_year = year,\n",
        "         epi_week = mmwr_week)\n",
        "\n",
        "death_filtered <- deaths_raw |>\n",
        "  rename(state_name = state) |>\n",
        "  mutate(epi_year = str_remove(epi_year, \"2019/\")) |>\n",
        "  filter(!grepl(\"United States\", state_name, ignore.case = TRUE)) |>\n",
        "  mutate(epi_week=as.numeric(epi_week), rm.na = TRUE) |>\n",
        "  mutate(epi_year=as.numeric(epi_year), rm.na = TRUE) |>\n",
        "  mutate(state = state.abb[match(state_name, state.name)]) |>\n",
        "  select(state, state_name, epi_week, epi_year, covid_19_deaths) |>\n",
        "  filter(!is.na(covid_19_deaths) & !is.na(epi_week))"
      ],
      "id": "f541f761",
      "execution_count": null,
      "outputs": []
    },
    {
      "cell_type": "markdown",
      "metadata": {},
      "source": [
        "16. Obtain vaccination data. Keep the variables `series_complete` and `booster` along with state and date. Remember we will later want to join with the others.\n"
      ],
      "id": "7ec636d8"
    },
    {
      "cell_type": "code",
      "metadata": {},
      "source": [
        "vax_api <- \"https://data.cdc.gov/resource/rh2h-3yt2.json\"\n",
        "\n",
        "vax_raw <- request(vax_api) |> \n",
        "  req_url_query(\"$limit\" = 1000000000) |>\n",
        "  req_perform() |> resp_body_string() |> \n",
        "  fromJSON(flatten = TRUE)\n",
        "\n",
        "vax_raw <- vax_raw |> as_tibble()\n",
        "\n",
        "vax_raw <- vax_raw |>\n",
        "  mutate(date = as.Date(date),\n",
        "  epi_year = isoyear(date),\n",
        "  epi_week = mmwr_week)\n",
        "\n",
        "vax_filtered <- vax_raw |>\n",
        "  rename(state = location) |>\n",
        "  mutate(state_name = state.name[match(state, state.abb)]) |>\n",
        "  mutate(epi_week=as.numeric(epi_week), rm.na = TRUE) |>\n",
        "  mutate(state_name = case_when(\n",
        "    state == \"DC\" ~ \"District of Columbia\",\n",
        "    state ==  \"PR\" ~ \"Puerto Rico\",\n",
        "    .default = state_name)) |>\n",
        "  filter(!grepl(\"VI\", state, ignore.case = TRUE)) |>\n",
        "  select(state, state_name, date, contains(\"booster\"), contains(\"series_complete\"), epi_year, epi_week)"
      ],
      "id": "d7bd0a60",
      "execution_count": null,
      "outputs": []
    },
    {
      "cell_type": "code",
      "metadata": {},
      "source": [
        "vax_filtered"
      ],
      "id": "404160f6",
      "execution_count": null,
      "outputs": []
    },
    {
      "cell_type": "markdown",
      "metadata": {},
      "source": [
        "17. Now we are ready to join the tables. We will only consider 2020 and 2021 as we don't have population sizes for 2020. However, because we want to guarantee that all dates are included we will create a data frame with all possible weeks. We can use this:\n"
      ],
      "id": "9b504005"
    },
    {
      "cell_type": "code",
      "metadata": {},
      "source": [
        "all_dates <- data.frame(date = seq(make_date(2020, 1, 25), make_date(2021, 12, 31), by = \"week\")) |>\n",
        "  mutate(date = ceiling_date(date, unit = \"week\", week_start = 7) - days(1)) |>\n",
        "  mutate(mmwr_year = epiyear(date), mmwr_week = epiweek(date)) \n",
        "\n",
        "dates_and_pop <- cross_join(population, all_dates) |> rename(epi_week = mmwr_week, epi_year = mmwr_year) "
      ],
      "id": "9b9f842e",
      "execution_count": null,
      "outputs": []
    },
    {
      "cell_type": "markdown",
      "metadata": {},
      "source": [
        "Use this to join all the tables in a way that preserves these dates. Call the final table `dat`.\n"
      ],
      "id": "91e903cf"
    },
    {
      "cell_type": "code",
      "metadata": {},
      "source": [
        "library(tidyverse)\n",
        "dat <- dates_and_pop|> \n",
        "  left_join(cases_filtered, by = c(\"state\", \"epi_week\", \"epi_year\")) |>\n",
        "  left_join(hosp_filtered, by = c(\"state\", \"epi_week\", \"epi_year\")) |>\n",
        "  left_join(death_filtered, by = c(\"state\", \"epi_week\", \"epi_year\", \"state_name\")) |>\n",
        "  left_join(vax_filtered, by = c(\"state\", \"epi_week\", \"epi_year\", \"state_name\"))\n",
        "\n",
        "dat <- dat |> mutate(new_cases=as.numeric(new_cases), rm.na = TRUE)"
      ],
      "id": "1b8c3ee5",
      "execution_count": null,
      "outputs": []
    },
    {
      "cell_type": "code",
      "metadata": {},
      "source": [
        "dat <- dat |> mutate(covid_19_deaths=as.numeric(covid_19_deaths), rm.na = TRUE)\n",
        "dat <- dat |> mutate(series_complete_daily=as.numeric(series_complete_daily), rm.na = TRUE)\n",
        "dat <- dat |> mutate(booster_daily=as.numeric(booster_daily), rm.na = TRUE)"
      ],
      "id": "11d7cdca",
      "execution_count": null,
      "outputs": []
    },
    {
      "cell_type": "markdown",
      "metadata": {},
      "source": [
        "18. Plot a trend plot with cases per person for all states with color representing region.\n"
      ],
      "id": "61d9fa2d"
    },
    {
      "cell_type": "code",
      "metadata": {},
      "source": [
        "dat |>\n",
        "ggplot(aes(date.x, new_cases/population *100000, color = region)) +\n",
        "geom_point() +\n",
        "geom_line() +\n",
        "labs(title = \"Trend Plot of Cases per Person by State\",\n",
        "       x = \"Date\",\n",
        "       y = \"Cases per Person\")"
      ],
      "id": "593d24ae",
      "execution_count": null,
      "outputs": []
    },
    {
      "cell_type": "markdown",
      "metadata": {},
      "source": [
        "19. Repeat the above for hospitalizations and deaths. Use `pivot_longer` and `facet_wrap`. Plot rates per $100,000$ people. Place the plots on top of each other.\n"
      ],
      "id": "92ddb022"
    },
    {
      "cell_type": "code",
      "metadata": {},
      "source": [
        "names(dat)"
      ],
      "id": "0dab2839",
      "execution_count": null,
      "outputs": []
    },
    {
      "cell_type": "code",
      "metadata": {},
      "source": [
        "dat_long <- dat |>\n",
        "  pivot_longer(cols = c(new_cases, total_hospitalized_covid_1, covid_19_deaths), names_to = \"variable\", values_to = \"count\") |>\n",
        "  mutate(rate_per_100k = count / population * 100000)\n",
        "\n",
        "# Plotting with ggplot2\n",
        "ggplot(dat_long, aes(date.x, rate_per_100k, color = region)) +\n",
        "  geom_point() +\n",
        "  geom_line() +\n",
        "  labs(title = \"Trend Plot of Rates per 100,000 People by State\",\n",
        "       x = \"Date\",\n",
        "       y = \"Rate per 100,000 People\") +\n",
        "  facet_wrap(~variable, scales = \"free_y\", ncol = 1)"
      ],
      "id": "24fd8c72",
      "execution_count": null,
      "outputs": []
    },
    {
      "cell_type": "markdown",
      "metadata": {},
      "source": [
        "20. For the period January 1 to July 1, 2021 compute the deaths per day per 100,000 people in each state as well as the vaccination rate (primary series) by September 1st. Plot these against each other.\n"
      ],
      "id": "be3e5e5d"
    },
    {
      "cell_type": "code",
      "metadata": {},
      "source": [
        "dat_20 <- dat %>%\n",
        "  filter(date.x >= as.Date(\"2021-01-01\") & date.x <= as.Date(\"2021-07-01\")) |>\n",
        "  group_by(state, region) |>\n",
        "  summarise(death_rate = mean(covid_19_deaths, na.rm = TRUE)*n() / population[1]*100000, \n",
        "  vax_rate = max(series_complete_daily)/population[1]*100)\n",
        "  \n",
        "\n",
        "dat_20 |> ggplot(aes(x = death_rate, y = vax_rate, color = region)) + \n",
        "geom_point() + \n",
        "labs(title = \"Deaths per Day per 100,000 vs. Vaccination Rate by State\", \n",
        "x = \"Deaths per Day per 100,000\", \n",
        "y = \"Vaccination Rate\", color = \"state\") + \n",
        "theme_minimal()"
      ],
      "id": "cd26cf31",
      "execution_count": null,
      "outputs": []
    },
    {
      "cell_type": "markdown",
      "metadata": {},
      "source": [
        "21. Repeat the exercise for the booster for October 1 to December 31, 2021.\n"
      ],
      "id": "cade20ef"
    },
    {
      "cell_type": "code",
      "metadata": {},
      "source": [
        "dat_21 <- dat %>%\n",
        "  filter(date.x >= as.Date(\"2021-10-01\") & date.x <= as.Date(\"2021-12-31\")) |>\n",
        "  group_by(state, region) |>\n",
        "  summarise(death_rate = mean(covid_19_deaths, na.rm = TRUE)*n() / population[1]*100000, \n",
        "  booster_rate = max(booster_daily)/population[1]*100)\n",
        "  \n",
        "\n",
        "dat_21 |> ggplot(aes(x = death_rate, y = booster_rate, color = region)) + \n",
        "geom_point() + \n",
        "labs(title = \"Deaths per Day per 100,000 vs. Vaccination Rate by State\", \n",
        "x = \"Deaths per Day per 100,000\", \n",
        "y = \"Vaccination Rate\", color = \"state\") + \n",
        "theme_minimal()"
      ],
      "id": "6d2393d9",
      "execution_count": null,
      "outputs": []
    }
  ],
  "metadata": {
    "kernelspec": {
      "name": "ir",
      "display_name": "R",
      "language": "R",
      "output": "html_document"
    }
  },
  "nbformat": 4,
  "nbformat_minor": 5
}